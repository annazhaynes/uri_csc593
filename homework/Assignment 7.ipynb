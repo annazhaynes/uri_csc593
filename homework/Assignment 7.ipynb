{
 "cells": [
  {
   "cell_type": "markdown",
   "metadata": {},
   "source": [
    "# Assignment 7\n",
    "\n",
    "*(Due Saturday, November 2, 2019 at noon.)*"
   ]
  },
  {
   "cell_type": "markdown",
   "metadata": {},
   "source": [
    "1) Load either your dataset, `brfss`, or `nhis` and create at least three derived fields from the data there. Ideally, these will be fields you'll need for your final project."
   ]
  },
  {
   "cell_type": "markdown",
   "metadata": {},
   "source": [
    "I included my code from last week as I already made several derived fields. I was going to count those as two and then have a more complex code following. Mainly, I separated what was the OCCURRED_ON_DATE into separate date, day, moth, year, and time columns as well as ordinal year to make it easy to see what day was the one with the most. I also had to conver lat and long into a numerical number as they were seen as strings in order to do the next part of my code."
   ]
  },
  {
   "cell_type": "code",
   "execution_count": 55,
   "metadata": {},
   "outputs": [
    {
     "data": {
      "text/html": [
       "<div>\n",
       "<style scoped>\n",
       "    .dataframe tbody tr th:only-of-type {\n",
       "        vertical-align: middle;\n",
       "    }\n",
       "\n",
       "    .dataframe tbody tr th {\n",
       "        vertical-align: top;\n",
       "    }\n",
       "\n",
       "    .dataframe thead th {\n",
       "        text-align: right;\n",
       "    }\n",
       "</style>\n",
       "<table border=\"1\" class=\"dataframe\">\n",
       "  <thead>\n",
       "    <tr style=\"text-align: right;\">\n",
       "      <th></th>\n",
       "      <th>INCIDENT_NUMBER</th>\n",
       "      <th>OFFENSE_CODE</th>\n",
       "      <th>OFFENSE_CODE_GROUP</th>\n",
       "      <th>OFFENSE_DESCRIPTION</th>\n",
       "      <th>DISTRICT</th>\n",
       "      <th>REPORTING_AREA</th>\n",
       "      <th>SHOOTING</th>\n",
       "      <th>DAY_OF_WEEK</th>\n",
       "      <th>UCR_PART</th>\n",
       "      <th>STREET</th>\n",
       "      <th>Lat</th>\n",
       "      <th>Long</th>\n",
       "      <th>DATE</th>\n",
       "      <th>DAY</th>\n",
       "      <th>MONTH</th>\n",
       "      <th>YEAR</th>\n",
       "      <th>ORDINAL_DAY</th>\n",
       "      <th>TIME</th>\n",
       "    </tr>\n",
       "  </thead>\n",
       "  <tbody>\n",
       "    <tr>\n",
       "      <td>0</td>\n",
       "      <td>I182070933</td>\n",
       "      <td>724</td>\n",
       "      <td>Auto Theft</td>\n",
       "      <td>AUTO THEFT</td>\n",
       "      <td>B2</td>\n",
       "      <td>330</td>\n",
       "      <td>-</td>\n",
       "      <td>Monday</td>\n",
       "      <td>Part One</td>\n",
       "      <td>NORMANDY ST</td>\n",
       "      <td>42.306072</td>\n",
       "      <td>-71.082733</td>\n",
       "      <td>2018-09-03</td>\n",
       "      <td>3</td>\n",
       "      <td>9</td>\n",
       "      <td>2018</td>\n",
       "      <td>736940</td>\n",
       "      <td>21:25:00</td>\n",
       "    </tr>\n",
       "    <tr>\n",
       "      <td>1</td>\n",
       "      <td>I182070940</td>\n",
       "      <td>3114</td>\n",
       "      <td>Investigate Property</td>\n",
       "      <td>INVESTIGATE PROPERTY</td>\n",
       "      <td>D4</td>\n",
       "      <td>272</td>\n",
       "      <td>-</td>\n",
       "      <td>Monday</td>\n",
       "      <td>Part Three</td>\n",
       "      <td>NEWCOMB ST</td>\n",
       "      <td>42.334182</td>\n",
       "      <td>-71.078664</td>\n",
       "      <td>2018-09-03</td>\n",
       "      <td>3</td>\n",
       "      <td>9</td>\n",
       "      <td>2018</td>\n",
       "      <td>736940</td>\n",
       "      <td>21:16:00</td>\n",
       "    </tr>\n",
       "    <tr>\n",
       "      <td>2</td>\n",
       "      <td>I182070936</td>\n",
       "      <td>3820</td>\n",
       "      <td>Motor Vehicle Accident Response</td>\n",
       "      <td>M/V ACCIDENT INVOLVING PEDESTRIAN - INJURY</td>\n",
       "      <td>C11</td>\n",
       "      <td>398</td>\n",
       "      <td>-</td>\n",
       "      <td>Monday</td>\n",
       "      <td>Part Three</td>\n",
       "      <td>TALBOT AVE</td>\n",
       "      <td>42.290196</td>\n",
       "      <td>-71.071590</td>\n",
       "      <td>2018-09-03</td>\n",
       "      <td>3</td>\n",
       "      <td>9</td>\n",
       "      <td>2018</td>\n",
       "      <td>736940</td>\n",
       "      <td>21:09:00</td>\n",
       "    </tr>\n",
       "    <tr>\n",
       "      <td>3</td>\n",
       "      <td>I182070938</td>\n",
       "      <td>3114</td>\n",
       "      <td>Investigate Property</td>\n",
       "      <td>INVESTIGATE PROPERTY</td>\n",
       "      <td>B3</td>\n",
       "      <td>421</td>\n",
       "      <td>-</td>\n",
       "      <td>Monday</td>\n",
       "      <td>Part Three</td>\n",
       "      <td>DELHI ST</td>\n",
       "      <td>42.275365</td>\n",
       "      <td>-71.090361</td>\n",
       "      <td>2018-09-03</td>\n",
       "      <td>3</td>\n",
       "      <td>9</td>\n",
       "      <td>2018</td>\n",
       "      <td>736940</td>\n",
       "      <td>21:05:00</td>\n",
       "    </tr>\n",
       "    <tr>\n",
       "      <td>4</td>\n",
       "      <td>I182070931</td>\n",
       "      <td>301</td>\n",
       "      <td>Robbery</td>\n",
       "      <td>ROBBERY - STREET</td>\n",
       "      <td>C6</td>\n",
       "      <td>177</td>\n",
       "      <td>-</td>\n",
       "      <td>Monday</td>\n",
       "      <td>Part One</td>\n",
       "      <td>MASSACHUSETTS AVE</td>\n",
       "      <td>42.331521</td>\n",
       "      <td>-71.070853</td>\n",
       "      <td>2018-09-03</td>\n",
       "      <td>3</td>\n",
       "      <td>9</td>\n",
       "      <td>2018</td>\n",
       "      <td>736940</td>\n",
       "      <td>20:48:00</td>\n",
       "    </tr>\n",
       "  </tbody>\n",
       "</table>\n",
       "</div>"
      ],
      "text/plain": [
       "  INCIDENT_NUMBER  OFFENSE_CODE               OFFENSE_CODE_GROUP  \\\n",
       "0      I182070933           724                       Auto Theft   \n",
       "1      I182070940          3114             Investigate Property   \n",
       "2      I182070936          3820  Motor Vehicle Accident Response   \n",
       "3      I182070938          3114             Investigate Property   \n",
       "4      I182070931           301                          Robbery   \n",
       "\n",
       "                          OFFENSE_DESCRIPTION DISTRICT REPORTING_AREA  \\\n",
       "0                                  AUTO THEFT       B2            330   \n",
       "1                        INVESTIGATE PROPERTY       D4            272   \n",
       "2  M/V ACCIDENT INVOLVING PEDESTRIAN - INJURY      C11            398   \n",
       "3                        INVESTIGATE PROPERTY       B3            421   \n",
       "4                            ROBBERY - STREET       C6            177   \n",
       "\n",
       "  SHOOTING DAY_OF_WEEK    UCR_PART             STREET        Lat       Long  \\\n",
       "0        -      Monday    Part One        NORMANDY ST  42.306072 -71.082733   \n",
       "1        -      Monday  Part Three         NEWCOMB ST  42.334182 -71.078664   \n",
       "2        -      Monday  Part Three         TALBOT AVE  42.290196 -71.071590   \n",
       "3        -      Monday  Part Three           DELHI ST  42.275365 -71.090361   \n",
       "4        -      Monday    Part One  MASSACHUSETTS AVE  42.331521 -71.070853   \n",
       "\n",
       "         DATE  DAY  MONTH  YEAR  ORDINAL_DAY      TIME  \n",
       "0  2018-09-03    3      9  2018       736940  21:25:00  \n",
       "1  2018-09-03    3      9  2018       736940  21:16:00  \n",
       "2  2018-09-03    3      9  2018       736940  21:09:00  \n",
       "3  2018-09-03    3      9  2018       736940  21:05:00  \n",
       "4  2018-09-03    3      9  2018       736940  20:48:00  "
      ]
     },
     "execution_count": 55,
     "metadata": {},
     "output_type": "execute_result"
    }
   ],
   "source": [
    "import numpy as np\n",
    "import pandas as pd\n",
    "import datetime as dt\n",
    "\n",
    "bostoncrime = pd.read_excel('../dataset/crime1yr.xlsx', sheet_name=0)\n",
    "bostoncrime = bostoncrime.drop([\"YEAR\", \"MONTH\", \"HOUR\",\"Location\"], axis=1)\n",
    "bostoncrime = bostoncrime.fillna('-')\n",
    "pd.to_datetime(bostoncrime.OCCURRED_ON_DATE)\n",
    "bostoncrime['DATE'] = [d.date() for d in bostoncrime['OCCURRED_ON_DATE']]\n",
    "bostoncrime['DAY'] = pd.DatetimeIndex(bostoncrime['DATE']).day\n",
    "bostoncrime['MONTH'] = pd.DatetimeIndex(bostoncrime['DATE']).month\n",
    "bostoncrime['YEAR'] = pd.DatetimeIndex(bostoncrime['DATE']).year\n",
    "bostoncrime['ORDINAL_DAY'] = [d.toordinal() for d in bostoncrime['DATE']]\n",
    "bostoncrime['TIME'] = [d.time() for d in bostoncrime['OCCURRED_ON_DATE']]\n",
    "bostoncrime = bostoncrime.drop([\"OCCURRED_ON_DATE\"], axis=1)\n",
    "bostoncrime['Long'] = pd.to_numeric(bostoncrime['Long'],errors='coerce')\n",
    "bostoncrime['Lat'] = pd.to_numeric(bostoncrime['Lat'],errors='coerce')\n",
    "\n",
    "#There are random values of 1 or 0 that need to be removed (entire row)\n",
    "\n",
    "# Get names of indexes for which column Lat has value less than 42\n",
    "indexLat = bostoncrime[bostoncrime['Lat'] < 42].index\n",
    "# Delete these row indexes from dataFrame\n",
    "bostoncrime.drop(indexLat, inplace=True)\n",
    "\n",
    "# Get names of indexes for which column Long has value greater -70\n",
    "indexLong = bostoncrime[bostoncrime['Long'] > -70].index\n",
    "# Delete these row indexes from dataFrame\n",
    "bostoncrime.drop(indexLong, inplace=True)\n",
    "\n",
    "bostoncrime.head()"
   ]
  },
  {
   "cell_type": "markdown",
   "metadata": {},
   "source": [
    "So here, I am attempting to map where the crime is taking place using the lat/long points and a boston city map shapefile"
   ]
  },
  {
   "cell_type": "code",
   "execution_count": 56,
   "metadata": {},
   "outputs": [
    {
     "data": {
      "text/plain": [
       "<matplotlib.axes._subplots.AxesSubplot at 0x2ca510a3648>"
      ]
     },
     "execution_count": 56,
     "metadata": {},
     "output_type": "execute_result"
    },
    {
     "data": {
      "image/png": "[encoded data removed]",
      "text/plain": [
       "<Figure size 1080x1080 with 1 Axes>"
      ]
     },
     "metadata": {
      "needs_background": "light"
     },
     "output_type": "display_data"
    }
   ],
   "source": [
    "import pandas as pd\n",
    "import geopandas as gpd\n",
    "import descartes\n",
    "import matplotlib.pyplot as plt\n",
    "from shapely.geometry import Point, Polygon\n",
    "\n",
    "%matplotlib inline\n",
    "\n",
    "#import map of boston from shape file\n",
    "boston_map = gpd.read_file('../dataset/Wards/Wards.shp')\n",
    "\n",
    "#specify coordinate referece system as lat/long points\n",
    "crs = {'init': 'epsg:4326'}\n",
    "\n",
    "#create points using longitude and latitude\n",
    "geometry = [Point(xy) for xy in zip(bostoncrime['Long'], bostoncrime['Lat'])]\n",
    "\n",
    "#make a geometry column to use for plotting\n",
    "geo_bostoncrime = gpd.GeoDataFrame(bostoncrime, crs=crs, geometry=geometry)\n",
    "\n",
    "#No longer need lat/long columns\n",
    "geo_bostoncrime = bostoncrime.drop([\"Long\",\"Lat\"], axis=1)\n",
    "\n",
    "geo_bostoncrime.head()\n",
    "\n",
    "#plot the map\n",
    "fig,ax = plt.subplots(figsize = (15,15))\n",
    "boston_map.plot(ax = ax, alpha = 0.4, color = \"grey\")\n",
    "geo_bostoncrime.plot(ax = ax, markersize = 20, color = \"blue\", marker = \"o\", label = \"Location of a committed crime\")\n"
   ]
  },
  {
   "cell_type": "markdown",
   "metadata": {},
   "source": [
    "This code will add a base map with labels under the polygon shape"
   ]
  },
  {
   "cell_type": "code",
   "execution_count": 59,
   "metadata": {},
   "outputs": [
    {
     "ename": "SyntaxError",
     "evalue": "invalid syntax (<ipython-input-59-f72869bcd5db>, line 3)",
     "output_type": "error",
     "traceback": [
      "\u001b[1;36m  File \u001b[1;32m\"<ipython-input-59-f72869bcd5db>\"\u001b[1;36m, line \u001b[1;32m3\u001b[0m\n\u001b[1;33m    import contextily as ctx\u001b[0m\n\u001b[1;37m         ^\u001b[0m\n\u001b[1;31mSyntaxError\u001b[0m\u001b[1;31m:\u001b[0m invalid syntax\n"
     ]
    }
   ],
   "source": [
    "geo_bostoncrime[\"geometry\"] = geo_bostoncrime[\"geometry]\".to_crs(epsg=3857)\n",
    "\n",
    "import contextily as ctx\n",
    "\n",
    "ax = geo_bostoncrime.plot(figsize=(10, 10), alpha=0.5, edgecolor='k')\n",
    "ctx.add_basemap(ax)"
   ]
  },
  {
   "cell_type": "markdown",
   "metadata": {},
   "source": [
    "2) Run the following cell."
   ]
  },
  {
   "cell_type": "code",
   "execution_count": 2,
   "metadata": {},
   "outputs": [
    {
     "data": {
      "text/plain": [
       "'0.9.0'"
      ]
     },
     "execution_count": 2,
     "metadata": {},
     "output_type": "execute_result"
    }
   ],
   "source": [
    "import seaborn as sns\n",
    "sns.__version__"
   ]
  },
  {
   "cell_type": "markdown",
   "metadata": {},
   "source": [
    "#### Submitting\n",
    "\n",
    "In the Terminal (Mac) or Git Bash (Windows):\n",
    "\n",
    "`git commit -a -m 'Assignment 7 completed'`  \n",
    "`git push`"
   ]
  },
  {
   "cell_type": "markdown",
   "metadata": {},
   "source": [
    "### Reading\n",
    "\n",
    "1. [_Python for Data Analysis_](https://uri-primo.hosted.exlibrisgroup.com/permalink/f/10nopmq/01URI_ALMA51209454630002396):\n",
    "    * Chapter 9"
   ]
  }
 ],
 "metadata": {
  "kernelspec": {
   "display_name": "Python 3",
   "language": "python",
   "name": "python3"
  },
  "language_info": {
   "codemirror_mode": {
    "name": "ipython",
    "version": 3
   },
   "file_extension": ".py",
   "mimetype": "text/x-python",
   "name": "python",
   "nbconvert_exporter": "python",
   "pygments_lexer": "ipython3",
   "version": "3.7.4"
  }
 },
 "nbformat": 4,
 "nbformat_minor": 2
}
