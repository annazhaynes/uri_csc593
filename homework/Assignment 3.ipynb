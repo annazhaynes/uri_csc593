{
 "cells": [
  {
   "cell_type": "markdown",
   "metadata": {},
   "source": [
    "# Assignment 3\n",
    "\n",
    "*(Due Saturday, October 5, 2019 at noon.)*"
   ]
  },
  {
   "cell_type": "code",
   "execution_count": 1,
   "metadata": {},
   "outputs": [],
   "source": [
    "xml = \"\"\"\n",
    "<data>\n",
    "    <citation><author> T. Fahringer, R. Blasko, and H. Zima. </author> <title> Automatic performance prediction to support parallelization of Fortran programs for massively parallel systems. </title> <booktitle> In Proceedings of the 1992 ACM International Conference on Supercomputing, </booktitle> <location> Washington, DC, </location> <date> July 1992. </date></citation>\n",
    "    <citation><author> A. D. Kallis and D. Klappholz, </author> <title> ``Reaching definitions analysis on code containing array references,'' </title> <booktitle> Conf. Rec. of the 4th Workshop on Languages and Compilers for Parallel Computing, </booktitle> <date> Aug. 1991. </date></citation>\n",
    "    <citation><author> R. Fletcher. </author> <title> Practical Methods of Optimization. </title> <publisher> John Wiley &amp; Sons, </publisher> <date> 1987. </date></citation>\n",
    "    <citation><author> Clark, K. L., </author> <title> Negation as Failure, </title> <editor> in: H. Gallaire and J. Minker (eds.), </editor> <booktitle> Logic and Data Bases, </booktitle> <publisher> Plenum Press, </publisher> <location> New York, </location> <date> 1978. </date></citation>\n",
    "    <citation><author> Gent, I. P., &amp; Walsh, T. </author> <date> (1994a). </date> <title> Easy problems are sometimes hard. </title> <journal> Artificial Intelligence, </journal> <volume> 70, </volume> <pages> 335-345. </pages></citation>\n",
    "</data>\n",
    "\"\"\""
   ]
  },
  {
   "cell_type": "markdown",
   "metadata": {},
   "source": [
    "### Task\n",
    "\n",
    "Copy your `Citation` class here from your class notes, then:\n",
    "\n",
    "1. Write a function that takes the XML above and outputs a list of `Citation` objects containing the data from the XML. \n",
    "2. Run the function, loop over the `Citation`s, and prints the output of each one's `complete()` method."
   ]
  },
  {
   "cell_type": "code",
   "execution_count": 32,
   "metadata": {},
   "outputs": [
    {
     "name": "stdout",
     "output_type": "stream",
     "text": [
      " T. Fahringer, R. Blasko, and H. Zima.   Automatic performance prediction to support parallelization of Fortran programs for massively parallel systems.   In Proceedings of the 1992 ACM International Conference on Supercomputing,   Washington, DC,   July 1992. \n",
      " A. D. Kallis and D. Klappholz,   ``Reaching definitions analysis on code containing array references,''   Conf. Rec. of the 4th Workshop on Languages and Compilers for Parallel Computing,   Aug. 1991. \n",
      " R. Fletcher.   Practical Methods of Optimization.   John Wiley & Sons,   1987. \n",
      " Clark, K. L.,   Negation as Failure,   Logic and Data Bases,   Plenum Press,   New York,   1978. \n",
      " Gent, I. P., & Walsh, T.   Easy problems are sometimes hard.   Artificial Intelligence,   70,   (1994a).   335-345. \n"
     ]
    }
   ],
   "source": [
    "class Citation:\n",
    "    def __init__(self, details):\n",
    "        self.author = details['author']\n",
    "        self.title = details['title']\n",
    "        self.journal = details['journal']\n",
    "        self.volume = details['volume']\n",
    "        self.number = details['number']\n",
    "        self.book_title = details['book_title']\n",
    "        self.publisher = details['publisher']\n",
    "        self.location = details['location']\n",
    "        self.date = details['date']\n",
    "        self.pages = details['pages']\n",
    "        \n",
    "    def names(self):\n",
    "        return self.author.split(',')\n",
    "    \n",
    "    def complete(self):\n",
    "        outp = self.author + ' ' + self.title\n",
    "        if None != self.journal:\n",
    "            outp += ' ' + self.journal\n",
    "        if None != self.volume:\n",
    "            outp += ' ' + self.volume\n",
    "        if None != self.number:\n",
    "            outp += ' ' + self.number\n",
    "        if None != self.book_title:\n",
    "            outp += ' ' + self.book_title\n",
    "        if None != self.publisher:\n",
    "            outp += ' ' + self.publisher\n",
    "        if None != self.location:\n",
    "            outp += ' ' + self.location\n",
    "        if None != self.date:\n",
    "            outp += ' ' + self.date\n",
    "        if None != self.pages:\n",
    "            outp += ' ' + self.pages\n",
    "        print(outp)\n",
    "        \n",
    "\n",
    "import xml.etree.ElementTree as ET\n",
    "root = ET.fromstring(xml)\n",
    "\n",
    "citations = []\n",
    "for citation in root:\n",
    "    author = citation.find('author').text\n",
    "    title = citation.find('title').text\n",
    "    editor = citation.find('editor')\n",
    "    if None != editor:\n",
    "        editor = citation.find('editor').text\n",
    "    journal = citation.find('journal')\n",
    "    if None != journal:\n",
    "        journal = citation.find('journal').text\n",
    "    volume= citation.find('volume')\n",
    "    if None != volume:\n",
    "        volume = citation.find('volume').text\n",
    "    number = citation.find('number')\n",
    "    if None != number:\n",
    "        number = citation.find('number').text\n",
    "    book_title = citation.find('booktitle')\n",
    "    if None != book_title:\n",
    "        book_title = citation.find('booktitle').text\n",
    "    publisher = citation.find('publisher')\n",
    "    if None != publisher:\n",
    "        publisher = citation.find('publisher').text\n",
    "    date = citation.find('date')\n",
    "    location = citation.find('location')\n",
    "    if None != location:\n",
    "        location = citation.find('location').text\n",
    "    if None != date:\n",
    "        date = citation.find('date').text\n",
    "    pages = citation.find('pages')\n",
    "    if None != pages:\n",
    "        pages = citation.find('pages').text\n",
    "    \n",
    "    newCitation = {\n",
    "        'author': author, \n",
    "        'title': title,\n",
    "        'editor': editor,\n",
    "        'journal': journal,\n",
    "        'volume': volume,\n",
    "        'number':number,\n",
    "        'book_title': book_title,\n",
    "        'publisher': publisher,\n",
    "        'location': location,\n",
    "        'date': date,\n",
    "        'pages': pages\n",
    "    }\n",
    "    \n",
    "    citations.append(newCitation)\n",
    "\n",
    "for x in range(0,len(citations)):\n",
    "    c = Citation(citations[x])\n",
    "    c.complete()\n",
    "    "
   ]
  },
  {
   "cell_type": "markdown",
   "metadata": {},
   "source": [
    "#### Submitting\n",
    "\n",
    "In the Terminal (Mac) or Git Bash (Windows):\n",
    "\n",
    "`git commit -a -m 'Assignment 3 completed'`  \n",
    "`git push`"
   ]
  },
  {
   "cell_type": "markdown",
   "metadata": {},
   "source": [
    "### Reading for next week\n",
    "\n",
    "Read these sections on learnpython.org...  \n",
    "1. [List Comprehensions](https://www.learnpython.org/en/List_Comprehensions)\n",
    "2. [Multiple Function Arguments](https://www.learnpython.org/en/Multiple_Function_Arguments)\n",
    "\n",
    "Or these sections of The Python Tutorial.\n",
    "1. [5.1.3 and 5.1.4](https://docs.python.org/3/tutorial/datastructures.html#list-comprehensions)\n",
    "1. [4.7](https://docs.python.org/3/tutorial/controlflow.html#more-on-defining-functions)"
   ]
  },
  {
   "cell_type": "code",
   "execution_count": null,
   "metadata": {},
   "outputs": [],
   "source": []
  }
 ],
 "metadata": {
  "kernelspec": {
   "display_name": "Python 3",
   "language": "python",
   "name": "python3"
  },
  "language_info": {
   "codemirror_mode": {
    "name": "ipython",
    "version": 3
   },
   "file_extension": ".py",
   "mimetype": "text/x-python",
   "name": "python",
   "nbconvert_exporter": "python",
   "pygments_lexer": "ipython3",
   "version": "3.7.3"
  }
 },
 "nbformat": 4,
 "nbformat_minor": 2
}
