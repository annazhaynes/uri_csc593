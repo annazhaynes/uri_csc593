{
 "cells": [
  {
   "cell_type": "markdown",
   "metadata": {},
   "source": [
    "# Assignment 5\n",
    "\n",
    "*(Due Saturday, October 19, 2019 at noon.)*"
   ]
  },
  {
   "cell_type": "markdown",
   "metadata": {},
   "source": [
    "1) Describe steps needed to clean your dataset. Are there badly-formatted or missing values that will need to be handled? Are you working with multiple files that need to be merged? Do you need to create any new derived fields? Describe the steps you expect to take to clean your data and prepare it for analysis."
   ]
  },
  {
   "cell_type": "markdown",
   "metadata": {},
   "source": [
    "I have to look at the two files that I have and see if the information on one is helpful for the other. If it is, I will need to merge the two files. There are some missing values so I will need to make sure that I have a line of code that excludes these. I have some numbers that need to be converted to int but only one column of data. There seems to be a repetitive column for dates so I might be able to take one out. "
   ]
  },
  {
   "cell_type": "markdown",
   "metadata": {},
   "source": [
    "2) Make a list of the fields in your data, including their names and types. If your input file is in a fixed-width format, also \n",
    "give the columns where each field appears in the data. There should be a \"codebook\" provided with your data that provides these details."
   ]
  },
  {
   "cell_type": "markdown",
   "metadata": {},
   "source": [
    "INCIDENT_NUMBER - str\n",
    "OFFENSE_CODE - str\n",
    "OFFENSE_CODE_GROUP - str\n",
    "OFFENSE_DESCRIPTION - str\n",
    "DISTRICT - str\n",
    "REPORTING_AREA - str\n",
    "SHOOTING - str\n",
    "OCCURRED_ON_DATE - str (make this a date object?)\n",
    "YEAR - str\n",
    "MONTH - str\n",
    "DAY_OF_WEEK - str\n",
    "HOUR - str\n",
    "UCR_PART - str\n",
    "STREET - str\n",
    "Lat - str (change to float)\n",
    "Long - str (change to float)\n",
    "Location - str"
   ]
  },
  {
   "cell_type": "markdown",
   "metadata": {},
   "source": [
    "3) List at least 3 questions you hope to be able to answer by analyzing your data."
   ]
  },
  {
   "cell_type": "markdown",
   "metadata": {},
   "source": [
    "1. What day/month had the most crime within that year in Boston?\n",
    "2. What was the most common offence?\n",
    "3. Which district reported the most crime? (What types?)"
   ]
  },
  {
   "cell_type": "markdown",
   "metadata": {},
   "source": [
    "**Finally,** run the next two blocks."
   ]
  },
  {
   "cell_type": "code",
   "execution_count": 1,
   "metadata": {},
   "outputs": [
    {
     "data": {
      "text/plain": [
       "'1.2.0'"
      ]
     },
     "execution_count": 1,
     "metadata": {},
     "output_type": "execute_result"
    }
   ],
   "source": [
    "import xlrd\n",
    "xlrd.__version__"
   ]
  },
  {
   "cell_type": "code",
   "execution_count": 2,
   "metadata": {},
   "outputs": [
    {
     "data": {
      "text/plain": [
       "'2.6.2'"
      ]
     },
     "execution_count": 2,
     "metadata": {},
     "output_type": "execute_result"
    }
   ],
   "source": [
    "import openpyxl\n",
    "openpyxl.__version__"
   ]
  },
  {
   "cell_type": "code",
   "execution_count": null,
   "metadata": {},
   "outputs": [],
   "source": []
  },
  {
   "cell_type": "markdown",
   "metadata": {},
   "source": [
    "#### Submitting\n",
    "\n",
    "In the Terminal (Mac) or Git Bash (Windows):\n",
    "\n",
    "`git commit -a -m 'Assignment 3 completed'`  \n",
    "`git push`"
   ]
  },
  {
   "cell_type": "markdown",
   "metadata": {},
   "source": [
    "### Reading\n",
    "\n",
    "1. [RegexOne](https://regexone.com/): Lessons 1 through 10, and the [Python Reference](https://regexone.com/references/python)\n",
    "2. [10 Minutes to Pandas](https://pandas.pydata.org/pandas-docs/stable/getting_started/10min.html)\n",
    "3. [_Python for Data Analysis_](https://uri-primo.hosted.exlibrisgroup.com/permalink/f/10nopmq/01URI_ALMA51209454630002396):\n",
    "    * Section 1.3, \"Essential Python Libraries\"\n",
    "    * Chapter 5, \"Getting Started with `pandas`\"\n",
    "    * Sections 6.1, \"Reading and Writing Data in Text Format\" and 6.2, \"Binary Data Formats\""
   ]
  }
 ],
 "metadata": {
  "kernelspec": {
   "display_name": "Python 3",
   "language": "python",
   "name": "python3"
  },
  "language_info": {
   "codemirror_mode": {
    "name": "ipython",
    "version": 3
   },
   "file_extension": ".py",
   "mimetype": "text/x-python",
   "name": "python",
   "nbconvert_exporter": "python",
   "pygments_lexer": "ipython3",
   "version": "3.7.4"
  }
 },
 "nbformat": 4,
 "nbformat_minor": 2
}
