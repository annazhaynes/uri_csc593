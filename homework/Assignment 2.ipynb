{
 "cells": [
  {
   "cell_type": "markdown",
   "metadata": {},
   "source": [
    "# Assignment 2\n",
    "\n",
    "*(Due Saturday, September 21, 2019 at noon.)*"
   ]
  },
  {
   "cell_type": "code",
   "execution_count": 2,
   "metadata": {},
   "outputs": [],
   "source": [
    "string1 = 'ABCDEFGHIJ'\n",
    "string2 = 'ABCDDFGHII'"
   ]
  },
  {
   "cell_type": "markdown",
   "metadata": {},
   "source": [
    "#### 1. In a new Python cell below, convert `string1` to a _list_ with 2 elements: \"ABCD\" and \"FGHIJ\", and output this to the screen. You don't need to save this new list to a variable."
   ]
  },
  {
   "cell_type": "code",
   "execution_count": 18,
   "metadata": {},
   "outputs": [
    {
     "name": "stdout",
     "output_type": "stream",
     "text": [
      "['ABCD', 'FGHIJ']\n"
     ]
    }
   ],
   "source": [
    "list1= [string1[0:4],string1[5:10]] #position counting starts at zero, not 1\n",
    "print(list1)"
   ]
  },
  {
   "cell_type": "markdown",
   "metadata": {},
   "source": [
    "#### 2. Save the length of `string1` to a new variable called `length1`."
   ]
  },
  {
   "cell_type": "code",
   "execution_count": 10,
   "metadata": {},
   "outputs": [
    {
     "name": "stdout",
     "output_type": "stream",
     "text": [
      "10\n"
     ]
    }
   ],
   "source": [
    "length1= len(string1)\n",
    "print(length1)"
   ]
  },
  {
   "cell_type": "markdown",
   "metadata": {},
   "source": [
    "#### 3. What type or class is `length1`?"
   ]
  },
  {
   "cell_type": "code",
   "execution_count": 14,
   "metadata": {},
   "outputs": [
    {
     "name": "stdout",
     "output_type": "stream",
     "text": [
      "<class 'int'>\n"
     ]
    }
   ],
   "source": [
    "print(type(length1))"
   ]
  },
  {
   "cell_type": "markdown",
   "metadata": {},
   "source": [
    "length1 is an integer"
   ]
  },
  {
   "cell_type": "markdown",
   "metadata": {},
   "source": [
    "#### 4. Loop over `range(length1)` and print the type of each item. "
   ]
  },
  {
   "cell_type": "code",
   "execution_count": 31,
   "metadata": {},
   "outputs": [
    {
     "name": "stdout",
     "output_type": "stream",
     "text": [
      "0  ,  <class 'int'>\n",
      "1  ,  <class 'int'>\n",
      "2  ,  <class 'int'>\n",
      "3  ,  <class 'int'>\n",
      "4  ,  <class 'int'>\n",
      "5  ,  <class 'int'>\n",
      "6  ,  <class 'int'>\n",
      "7  ,  <class 'int'>\n",
      "8  ,  <class 'int'>\n",
      "9  ,  <class 'int'>\n"
     ]
    }
   ],
   "source": [
    "for i in range(length1):\n",
    "    print(i,' , ',type(i))"
   ]
  },
  {
   "cell_type": "markdown",
   "metadata": {},
   "source": [
    "#### 5. Print the fifth item in `string1`."
   ]
  },
  {
   "cell_type": "code",
   "execution_count": 16,
   "metadata": {},
   "outputs": [
    {
     "name": "stdout",
     "output_type": "stream",
     "text": [
      "E\n"
     ]
    }
   ],
   "source": [
    "print(string1[4]) #again count starts at 0"
   ]
  },
  {
   "cell_type": "markdown",
   "metadata": {},
   "source": [
    "#### 6. Print the first 3 items in `string2`."
   ]
  },
  {
   "cell_type": "code",
   "execution_count": 20,
   "metadata": {},
   "outputs": [
    {
     "name": "stdout",
     "output_type": "stream",
     "text": [
      "ABC\n"
     ]
    }
   ],
   "source": [
    "print(string2[0:3])"
   ]
  },
  {
   "cell_type": "markdown",
   "metadata": {},
   "source": [
    "#### 7. Loop over string1 and print every other letter in it."
   ]
  },
  {
   "cell_type": "code",
   "execution_count": 37,
   "metadata": {},
   "outputs": [
    {
     "name": "stdout",
     "output_type": "stream",
     "text": [
      "A\n",
      "C\n",
      "E\n",
      "G\n",
      "I\n"
     ]
    }
   ],
   "source": [
    "for i in range(length1):\n",
    "    if (i%2)==0:\n",
    "        print(string1[i])"
   ]
  },
  {
   "cell_type": "markdown",
   "metadata": {},
   "source": [
    "#### 8. Print each letter of string1 on a line with its corresponding letter of string2. Sample output:\n",
    "\n",
    "```\n",
    "AA\n",
    "BB\n",
    "CC\n",
    "DD\n",
    "ED\n",
    "...\n",
    "```"
   ]
  },
  {
   "cell_type": "code",
   "execution_count": 42,
   "metadata": {},
   "outputs": [
    {
     "name": "stdout",
     "output_type": "stream",
     "text": [
      "A A\n",
      "B B\n",
      "C C\n",
      "D D\n",
      "E D\n",
      "F F\n",
      "G G\n",
      "H H\n",
      "I I\n",
      "J I\n"
     ]
    }
   ],
   "source": [
    "for i in range(length1):\n",
    "    print(string1[i],string2[i])\n",
    "        "
   ]
  },
  {
   "cell_type": "code",
   "execution_count": null,
   "metadata": {},
   "outputs": [],
   "source": []
  }
 ],
 "metadata": {
  "kernelspec": {
   "display_name": "Python 3",
   "language": "python",
   "name": "python3"
  },
  "language_info": {
   "codemirror_mode": {
    "name": "ipython",
    "version": 3
   },
   "file_extension": ".py",
   "mimetype": "text/x-python",
   "name": "python",
   "nbconvert_exporter": "python",
   "pygments_lexer": "ipython3",
   "version": "3.7.3"
  }
 },
 "nbformat": 4,
 "nbformat_minor": 2
}
